{
 "cells": [
  {
   "cell_type": "code",
   "execution_count": null,
   "source": [
    "import math"
   ],
   "outputs": [],
   "metadata": {}
  },
  {
   "cell_type": "code",
   "execution_count": null,
   "source": [
    "# Funções para combinações de números\r\n",
    "'''\r\n",
    "n = Objetos\r\n",
    "p = Posições\r\n",
    "'''\r\n",
    "def permutacoes(n, p=0):\r\n",
    "    return math.factorial(n)\r\n",
    "\r\n",
    "def combinacoes(n, p):\r\n",
    "    return math.factorial(n) / (math.factorial(n - p) * math.factorial(p))\r\n",
    "\r\n",
    "def arranjo(n, p):\r\n",
    "    return math.factorial(n) / math.factorial(n - p) \r\n",
    "\r\n",
    "def somaProd(*num):\r\n",
    "    prod = 1\r\n",
    "    for i in num:\r\n",
    "        prod *= (i)\r\n",
    "    return prod\r\n"
   ],
   "outputs": [],
   "metadata": {}
  },
  {
   "cell_type": "code",
   "execution_count": null,
   "source": [
    "n = 5\r\n",
    "p = 2"
   ],
   "outputs": [],
   "metadata": {}
  },
  {
   "cell_type": "code",
   "execution_count": null,
   "source": [
    "# Funções para permutação de números P = N\r\n",
    "permutacoes(n,0)"
   ],
   "outputs": [],
   "metadata": {}
  },
  {
   "cell_type": "code",
   "execution_count": null,
   "source": [
    "# Funções para combinação de números SE AB == BA\r\n",
    "combinacoes(n, p)"
   ],
   "outputs": [],
   "metadata": {}
  },
  {
   "cell_type": "code",
   "execution_count": null,
   "source": [
    "# Funções para arranjo de números SE AB != BA\r\n",
    "arranjo(n, p)"
   ],
   "outputs": [],
   "metadata": {}
  },
  {
   "cell_type": "code",
   "execution_count": null,
   "source": [
    "math.factorial(4)"
   ],
   "outputs": [],
   "metadata": {}
  },
  {
   "cell_type": "code",
   "execution_count": null,
   "source": [
    "somaProd(3,4,3,2)"
   ],
   "outputs": [],
   "metadata": {}
  },
  {
   "cell_type": "code",
   "execution_count": null,
   "source": [],
   "outputs": [],
   "metadata": {}
  }
 ],
 "metadata": {
  "orig_nbformat": 4,
  "language_info": {
   "name": "python",
   "version": "3.8.10",
   "mimetype": "text/x-python",
   "codemirror_mode": {
    "name": "ipython",
    "version": 3
   },
   "pygments_lexer": "ipython3",
   "nbconvert_exporter": "python",
   "file_extension": ".py"
  },
  "kernelspec": {
   "name": "python3",
   "display_name": "Python 3.8.10 64-bit (windows store)"
  },
  "interpreter": {
   "hash": "39ca9682a9b1f53cdb733f8ef17847502181453c2bfcb2101e79b7d2099e4fce"
  }
 },
 "nbformat": 4,
 "nbformat_minor": 2
}