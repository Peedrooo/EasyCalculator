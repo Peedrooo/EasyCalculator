{
 "cells": [
  {
   "cell_type": "code",
   "execution_count": null,
   "source": [
    "import math"
   ],
   "outputs": [],
   "metadata": {}
  },
  {
   "cell_type": "code",
   "execution_count": null,
   "source": [
    "def linear(m,r,c = 0):\r\n",
    "    m -= c\r\n",
    "    m-=1\r\n",
    "    r-=1\r\n",
    "    return math.factorial(m) / (math.factorial(m - r) * math.factorial(r))"
   ],
   "outputs": [],
   "metadata": {}
  },
  {
   "cell_type": "code",
   "execution_count": null,
   "source": [
    "def linear0(m,r,c=0):\r\n",
    "    m -= c\r\n",
    "    n = m + (r - 1)\r\n",
    "    r -= 1\r\n",
    "    return math.factorial(n) / (math.factorial(n - r) * math.factorial(r))\r\n"
   ],
   "outputs": [],
   "metadata": {}
  },
  {
   "cell_type": "code",
   "execution_count": null,
   "source": [
    "m = 7\r\n",
    "n = 4\r\n",
    "c = 0"
   ],
   "outputs": [],
   "metadata": {}
  },
  {
   "cell_type": "code",
   "execution_count": null,
   "source": [
    "# Condição não aceitando 0\r\n",
    "linear(m,n,c)"
   ],
   "outputs": [],
   "metadata": {}
  },
  {
   "cell_type": "code",
   "execution_count": null,
   "source": [
    "# Condição incluindo zero\r\n",
    "linear0(m,n,c)"
   ],
   "outputs": [],
   "metadata": {}
  }
 ],
 "metadata": {
  "orig_nbformat": 4,
  "language_info": {
   "name": "python",
   "version": "3.8.10",
   "mimetype": "text/x-python",
   "codemirror_mode": {
    "name": "ipython",
    "version": 3
   },
   "pygments_lexer": "ipython3",
   "nbconvert_exporter": "python",
   "file_extension": ".py"
  },
  "kernelspec": {
   "name": "python3",
   "display_name": "Python 3.8.10 64-bit (windows store)"
  },
  "interpreter": {
   "hash": "39ca9682a9b1f53cdb733f8ef17847502181453c2bfcb2101e79b7d2099e4fce"
  }
 },
 "nbformat": 4,
 "nbformat_minor": 2
}