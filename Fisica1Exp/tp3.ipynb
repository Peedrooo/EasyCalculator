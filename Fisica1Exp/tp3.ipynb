{
 "cells": [
  {
   "cell_type": "code",
   "execution_count": null,
   "source": [
    "import numpy as np"
   ],
   "outputs": [],
   "metadata": {}
  },
  {
   "cell_type": "code",
   "execution_count": null,
   "source": [
    "# Funções \r\n",
    "\r\n",
    "# Módulo\r\n",
    "def modulo (x):\r\n",
    "    if x < 0:\r\n",
    "        x = -x\r\n",
    "    return (x)\r\n",
    "\r\n",
    "\r\n",
    "# Média\r\n",
    "def media(lista):\r\n",
    "    return (np.mean(lista))\r\n",
    "\r\n",
    "# Aceleração média\r\n",
    "\r\n",
    "def aceleracao_media(Tm):\r\n",
    "    am = 0.3 * 2 / Tm**2\r\n",
    "    return (am)\r\n",
    "\r\n",
    "\r\n",
    "# Força resultante sobre acerleação média\r\n",
    "\r\n",
    "def forca_acelracao_media(Fr, Tm):\r\n",
    "    am = aceleracao_media(Tm)\r\n",
    "    return (Fr/am)\r\n",
    "\r\n",
    "\r\n",
    "# Erro percentual\r\n",
    "\r\n",
    "def erro_percentual(M, Fr, Am):\r\n",
    "    ep = modulo(M - Fr/Am) / (Fr / Am)\r\n",
    "    return (ep)\r\n"
   ],
   "outputs": [],
   "metadata": {}
  },
  {
   "cell_type": "code",
   "execution_count": null,
   "source": [
    "M = 0.335\r\n",
    "Fr = [0.250,0.350,0.450,0.550,0.650]\r\n",
    "lin = [[0.920,0.951,0.940,0.958,0.953],\r\n",
    "[0.831,0.828,0.825,0.826,0.824],\r\n",
    "[0.708,0.709,0.710,0.707,0.710],\r\n",
    "[0.650,0.631,0.642,0.643,0.647],\r\n",
    "[0.579,0.579,0.577,0.580,0.579]]\r\n"
   ],
   "outputs": [],
   "metadata": {}
  },
  {
   "cell_type": "code",
   "execution_count": null,
   "source": [
    "# Coluna tempo médio\r\n",
    "Tm = []\r\n",
    "for c in lin:\r\n",
    "    Tm.append(media(c))\r\n",
    "Tm\r\n"
   ],
   "outputs": [],
   "metadata": {}
  },
  {
   "cell_type": "code",
   "execution_count": null,
   "source": [
    "# Coluna aceleração média\r\n",
    "\r\n",
    "Am = []\r\n",
    "for c in Tm:\r\n",
    "    Am.append(aceleracao_media(c))\r\n",
    "Am\r\n"
   ],
   "outputs": [],
   "metadata": {}
  },
  {
   "cell_type": "code",
   "execution_count": null,
   "source": [
    "# Coluna força resultante sobre aceleração média\r\n",
    "\r\n",
    "Fr_Am = []\r\n",
    "for c in range(len(Fr)):\r\n",
    "    Fr_Am.append(forca_acelracao_media(Fr[c], Tm[c]))\r\n",
    "Fr_Am"
   ],
   "outputs": [],
   "metadata": {}
  },
  {
   "cell_type": "code",
   "execution_count": null,
   "source": [
    "# coluna erro percentual\r\n",
    "\r\n",
    "Er_P = []\r\n",
    "for c in range(len(Fr)):\r\n",
    "    Er_P.append(erro_percentual(M, Fr[c], Am[c]))\r\n",
    "Er_P\r\n"
   ],
   "outputs": [],
   "metadata": {}
  },
  {
   "cell_type": "code",
   "execution_count": null,
   "source": [],
   "outputs": [],
   "metadata": {}
  }
 ],
 "metadata": {
  "orig_nbformat": 4,
  "language_info": {
   "name": "python",
   "version": "3.8.10",
   "mimetype": "text/x-python",
   "codemirror_mode": {
    "name": "ipython",
    "version": 3
   },
   "pygments_lexer": "ipython3",
   "nbconvert_exporter": "python",
   "file_extension": ".py"
  },
  "kernelspec": {
   "name": "python3",
   "display_name": "Python 3.8.10 64-bit (windows store)"
  },
  "interpreter": {
   "hash": "39ca9682a9b1f53cdb733f8ef17847502181453c2bfcb2101e79b7d2099e4fce"
  }
 },
 "nbformat": 4,
 "nbformat_minor": 2
}