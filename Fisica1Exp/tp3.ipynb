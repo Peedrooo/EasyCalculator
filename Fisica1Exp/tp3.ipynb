{
 "cells": [
  {
   "cell_type": "code",
   "execution_count": null,
   "metadata": {},
   "outputs": [],
   "source": [
    "import numpy as np"
   ]
  },
  {
   "cell_type": "code",
   "execution_count": null,
   "metadata": {},
   "outputs": [],
   "source": [
    "# Funções \n",
    "\n",
    "# Módulo\n",
    "def modulo (x):\n",
    "    if x < 0:\n",
    "        x = -x\n",
    "    return (x)\n",
    "\n",
    "\n",
    "# Média\n",
    "def media(lista):\n",
    "    return (np.mean(lista))\n",
    "\n",
    "# Aceleração média\n",
    "\n",
    "def aceleracao_media(Tm):\n",
    "    am = 0.3 * 2 / Tm**2\n",
    "    return (am)\n",
    "\n",
    "\n",
    "# Força resultante sobre acerleação média\n",
    "\n",
    "def forca_acelracao_media(Fr, Tm):\n",
    "    am = aceleracao_media(Tm)\n",
    "    return (Fr/am)\n",
    "\n",
    "\n",
    "# Erro percentual\n",
    "\n",
    "def erro_percentual(M, Fr, Am):\n",
    "    ep = modulo(M - Fr/Am) / (Fr / Am)\n",
    "    return (ep)\n"
   ]
  },
  {
   "cell_type": "code",
   "execution_count": null,
   "metadata": {},
   "outputs": [],
   "source": [
    "M = 0.335\n",
    "Fr = [0.250,0.350,0.450,0.550,0.650]\n",
    "lin = [[0.920,0.951,0.940,0.958,0.953],\n",
    "[0.831,0.828,0.825,0.826,0.824],\n",
    "[0.708,0.709,0.710,0.707,0.710],\n",
    "[0.650,0.631,0.642,0.643,0.647],\n",
    "[0.579,0.579,0.577,0.580,0.579]]\n"
   ]
  },
  {
   "cell_type": "code",
   "execution_count": null,
   "metadata": {},
   "outputs": [],
   "source": [
    "# Coluna tempo médio\n",
    "Tm = []\n",
    "for c in lin:\n",
    "    Tm.append(media(c))\n",
    "Tm\n"
   ]
  },
  {
   "cell_type": "code",
   "execution_count": null,
   "metadata": {},
   "outputs": [],
   "source": [
    "# Coluna aceleração média\n",
    "\n",
    "Am = []\n",
    "for c in Tm:\n",
    "    Am.append(aceleracao_media(c))\n",
    "Am\n"
   ]
  },
  {
   "cell_type": "code",
   "execution_count": null,
   "metadata": {},
   "outputs": [],
   "source": [
    "# Coluna força resultante sobre aceleração média\n",
    "\n",
    "Fr_Am = []\n",
    "for c in range(len(Fr)):\n",
    "    Fr_Am.append(forca_acelracao_media(Fr[c], Tm[c]))\n",
    "Fr_Am"
   ]
  },
  {
   "cell_type": "code",
   "execution_count": null,
   "metadata": {},
   "outputs": [],
   "source": [
    "# coluna erro percentual\n",
    "\n",
    "Er_P = []\n",
    "for c in range(len(Fr)):\n",
    "    Er_P.append(erro_percentual(M, Fr[c], Am[c]))\n",
    "Er_P\n"
   ]
  },
  {
   "cell_type": "code",
   "execution_count": null,
   "metadata": {},
   "outputs": [],
   "source": []
  }
 ],
 "metadata": {
  "interpreter": {
   "hash": "39ca9682a9b1f53cdb733f8ef17847502181453c2bfcb2101e79b7d2099e4fce"
  },
  "kernelspec": {
   "display_name": "Python 3.8.10 64-bit (windows store)",
   "name": "python3"
  },
  "language_info": {
   "codemirror_mode": {
    "name": "ipython",
    "version": 3
   },
   "file_extension": ".py",
   "mimetype": "text/x-python",
   "name": "python",
   "nbconvert_exporter": "python",
   "pygments_lexer": "ipython3",
   "version": "3.8.10"
  },
  "orig_nbformat": 4
 },
 "nbformat": 4,
 "nbformat_minor": 2
}
