{
 "cells": [
  {
   "cell_type": "code",
   "execution_count": 6,
   "metadata": {},
   "outputs": [],
   "source": [
    "def mensao(quest=0, tp1=0,tp2=0,tp3=0,tp4=0,tp5=0):\n",
    "    TP = 0.1*tp1 + 0.25*tp2 + 0.15*tp3 + 0.1*tp4 + 0.4*tp5\n",
    "    Quest = quest\n",
    "    NF = round(0.8*TP + 0.2*Quest,2)\n",
    "    if NF >= 9:\n",
    "        return f'Sua nota foi {NF}, recebendo menção SS'\n",
    "    elif NF >= 7:\n",
    "        return f'Sua nota foi {NF}, recebendo menção MS'\n",
    "    elif NF >=5 :\n",
    "        return f'Sua nota foi {NF}, recebendo menção MM'\n",
    "    else:\n",
    "        return f'Sua nota foi {NF}, recebendo menção MI -> Reprovado'\n"
   ]
  },
  {
   "cell_type": "code",
   "execution_count": 11,
   "metadata": {},
   "outputs": [
    {
     "name": "stdout",
     "output_type": "stream",
     "text": [
      "Sua nota foi 8.88, recebendo menção MS\n"
     ]
    }
   ],
   "source": [
    "print(mensao(quest=10,tp1=9.5,tp2=8.4,tp3=6.5,tp4=6.5,tp5=9.8))"
   ]
  },
  {
   "cell_type": "code",
   "execution_count": null,
   "metadata": {},
   "outputs": [],
   "source": []
  }
 ],
 "metadata": {
  "interpreter": {
   "hash": "39ca9682a9b1f53cdb733f8ef17847502181453c2bfcb2101e79b7d2099e4fce"
  },
  "kernelspec": {
   "display_name": "Python 3.8.10 64-bit (windows store)",
   "name": "python3"
  },
  "language_info": {
   "codemirror_mode": {
    "name": "ipython",
    "version": 3
   },
   "file_extension": ".py",
   "mimetype": "text/x-python",
   "name": "python",
   "nbconvert_exporter": "python",
   "pygments_lexer": "ipython3",
   "version": "3.8.10"
  },
  "orig_nbformat": 4
 },
 "nbformat": 4,
 "nbformat_minor": 2
}
